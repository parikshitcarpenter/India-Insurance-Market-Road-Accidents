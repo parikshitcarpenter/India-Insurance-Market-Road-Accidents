{
 "cells": [
  {
   "cell_type": "markdown",
   "id": "562b4cc6",
   "metadata": {},
   "source": [
    "### Title: Analysis of India's Two Wheeler Insurance Market"
   ]
  },
  {
   "cell_type": "raw",
   "id": "5d504c1f",
   "metadata": {},
   "source": [
    "India two wheeler insurance market can be segmented based on vehicle type, type, source, premium type and region. Based on the type, third party insurance is the dominant segment due to its low cost when compared with its counterpart. On the basis of premium type, the market can be bifurcated into personal insurance premium and commercial insurance premium."
   ]
  },
  {
   "cell_type": "markdown",
   "id": "950fefb4",
   "metadata": {},
   "source": [
    "Years considered for this report: (This is a dummy dataset of 7000 instances)\n",
    "\n",
    "Historical Years: 2014-2017\n",
    "\n",
    "Base Year: 2018"
   ]
  },
  {
   "cell_type": "raw",
   "id": "0ebbb4b6",
   "metadata": {},
   "source": [
    "Key Players:\n",
    "- List the major companies operating in the India Two Wheeler Insurance Market.\n",
    "\n",
    "- Mention some of the key players, such as The New India Assurance', 'HDFC ERGO General Insurance','The Oriental Insurance Company','TATA AIG General Insurance','ICICI Lombard General Insurance'.\n"
   ]
  },
  {
   "cell_type": "markdown",
   "id": "b0d96624",
   "metadata": {},
   "source": [
    "### Objective of the Study:"
   ]
  },
  {
   "cell_type": "raw",
   "id": "ba4242a7",
   "metadata": {},
   "source": [
    "- To analyze the market size of India two wheeler insurance market.\n",
    "- To classify India two wheeler insurance market based on vehicle type, type, source, premium type and regional distribution.\n",
    "- To identify drivers and challenges for India two wheeler insurance market.\n",
    "- To identify and analyze the profile of leading players operating in India two wheeler insurance market."
   ]
  },
  {
   "cell_type": "markdown",
   "id": "caf7f17f",
   "metadata": {},
   "source": [
    "##### Making a dummy dataset, I couldn't find the api for India Two Wheeler Insurance Market"
   ]
  },
  {
   "cell_type": "code",
   "execution_count": 66,
   "id": "f5abe5e4",
   "metadata": {},
   "outputs": [
    {
     "data": {
      "text/html": [
       "<div>\n",
       "<style scoped>\n",
       "    .dataframe tbody tr th:only-of-type {\n",
       "        vertical-align: middle;\n",
       "    }\n",
       "\n",
       "    .dataframe tbody tr th {\n",
       "        vertical-align: top;\n",
       "    }\n",
       "\n",
       "    .dataframe thead th {\n",
       "        text-align: right;\n",
       "    }\n",
       "</style>\n",
       "<table border=\"1\" class=\"dataframe\">\n",
       "  <thead>\n",
       "    <tr style=\"text-align: right;\">\n",
       "      <th></th>\n",
       "      <th>Insurance</th>\n",
       "      <th>Policy Holders</th>\n",
       "      <th>Premium Amounts</th>\n",
       "      <th>Claim Amounts</th>\n",
       "      <th>Premium Type</th>\n",
       "    </tr>\n",
       "  </thead>\n",
       "  <tbody>\n",
       "    <tr>\n",
       "      <th>0</th>\n",
       "      <td>The New India Assurance</td>\n",
       "      <td>4582.0</td>\n",
       "      <td>41970.0</td>\n",
       "      <td>63849.0</td>\n",
       "      <td>Commercial Insurance Premium</td>\n",
       "    </tr>\n",
       "    <tr>\n",
       "      <th>1</th>\n",
       "      <td>TATA AIG General Insurance</td>\n",
       "      <td>NaN</td>\n",
       "      <td>NaN</td>\n",
       "      <td>NaN</td>\n",
       "      <td>Commercial Insurance Premium</td>\n",
       "    </tr>\n",
       "    <tr>\n",
       "      <th>2</th>\n",
       "      <td>The New India Assurance</td>\n",
       "      <td>NaN</td>\n",
       "      <td>NaN</td>\n",
       "      <td>NaN</td>\n",
       "      <td>Personal Insurance Premium</td>\n",
       "    </tr>\n",
       "    <tr>\n",
       "      <th>3</th>\n",
       "      <td>HDFC ERGO General Insurance</td>\n",
       "      <td>2346.0</td>\n",
       "      <td>47539.0</td>\n",
       "      <td>23521.0</td>\n",
       "      <td>Commercial Insurance Premium</td>\n",
       "    </tr>\n",
       "    <tr>\n",
       "      <th>4</th>\n",
       "      <td>HDFC ERGO General Insurance</td>\n",
       "      <td>2122.0</td>\n",
       "      <td>35455.0</td>\n",
       "      <td>73845.0</td>\n",
       "      <td>Commercial Insurance Premium</td>\n",
       "    </tr>\n",
       "  </tbody>\n",
       "</table>\n",
       "</div>"
      ],
      "text/plain": [
       "                     Insurance  Policy Holders  Premium Amounts  \\\n",
       "0      The New India Assurance          4582.0          41970.0   \n",
       "1   TATA AIG General Insurance             NaN              NaN   \n",
       "2      The New India Assurance             NaN              NaN   \n",
       "3  HDFC ERGO General Insurance          2346.0          47539.0   \n",
       "4  HDFC ERGO General Insurance          2122.0          35455.0   \n",
       "\n",
       "   Claim Amounts                  Premium Type  \n",
       "0        63849.0  Commercial Insurance Premium  \n",
       "1            NaN  Commercial Insurance Premium  \n",
       "2            NaN    Personal Insurance Premium  \n",
       "3        23521.0  Commercial Insurance Premium  \n",
       "4        73845.0  Commercial Insurance Premium  "
      ]
     },
     "execution_count": 66,
     "metadata": {},
     "output_type": "execute_result"
    }
   ],
   "source": [
    "import numpy as np\n",
    "import pandas as pd\n",
    "\n",
    "np.random.seed(123)\n",
    "\n",
    "insurance_providers = [\n",
    "    'The Oriental Insurance Company',\n",
    "    'HDFC ERGO General Insurance',\n",
    "    'TATA AIG General Insurance',\n",
    "    'The New India Assurance',\n",
    "    'ICICI Lombard General Insurance'\n",
    "]\n",
    "\n",
    "claim_settlement_ratios = [91.76, 91.23, 90.49, 89.60, 87.771]\n",
    "\n",
    "num_records = 10000\n",
    "policy_holders = np.random.randint(1000, 5000, size=num_records).astype(float)\n",
    "premium_amounts = np.random.randint(20000, 50000, size=num_records).astype(float)\n",
    "claim_amounts = np.random.randint(20000, 100000, size=num_records).astype(float)\n",
    "\n",
    "# Introduce random empty cells by assigning NaN values\n",
    "mask = np.random.choice([True, False], size=num_records, p=[0.2, 0.8])\n",
    "policy_holders[mask] = np.nan\n",
    "premium_amounts[mask] = np.nan\n",
    "claim_amounts[mask] = np.nan\n",
    "\n",
    "# Generate random premium types\n",
    "premium_types = np.random.choice(['Personal Insurance Premium', 'Commercial Insurance Premium'], size=num_records)\n",
    "\n",
    "data = {\n",
    "    'Insurance': np.random.choice(insurance_providers, size=num_records),\n",
    "    'Policy Holders': policy_holders,\n",
    "    'Premium Amounts': premium_amounts,\n",
    "    'Claim Amounts': claim_amounts,\n",
    "    'Premium Type': premium_types\n",
    "}\n",
    "\n",
    "# Create a DataFrame from the data\n",
    "df = pd.DataFrame(data)\n",
    "df.head()"
   ]
  },
  {
   "cell_type": "code",
   "execution_count": 67,
   "id": "21a1c111",
   "metadata": {
    "scrolled": true
   },
   "outputs": [
    {
     "data": {
      "text/html": [
       "<div>\n",
       "<style scoped>\n",
       "    .dataframe tbody tr th:only-of-type {\n",
       "        vertical-align: middle;\n",
       "    }\n",
       "\n",
       "    .dataframe tbody tr th {\n",
       "        vertical-align: top;\n",
       "    }\n",
       "\n",
       "    .dataframe thead th {\n",
       "        text-align: right;\n",
       "    }\n",
       "</style>\n",
       "<table border=\"1\" class=\"dataframe\">\n",
       "  <thead>\n",
       "    <tr style=\"text-align: right;\">\n",
       "      <th></th>\n",
       "      <th>Insurance</th>\n",
       "      <th>Policy Holders</th>\n",
       "      <th>Premium Amounts</th>\n",
       "      <th>Claim Amounts</th>\n",
       "      <th>Premium Type</th>\n",
       "      <th>Year</th>\n",
       "    </tr>\n",
       "  </thead>\n",
       "  <tbody>\n",
       "    <tr>\n",
       "      <th>0</th>\n",
       "      <td>The New India Assurance</td>\n",
       "      <td>4582.0</td>\n",
       "      <td>41970.0</td>\n",
       "      <td>63849.0</td>\n",
       "      <td>Commercial Insurance Premium</td>\n",
       "      <td>2017</td>\n",
       "    </tr>\n",
       "    <tr>\n",
       "      <th>1</th>\n",
       "      <td>TATA AIG General Insurance</td>\n",
       "      <td>NaN</td>\n",
       "      <td>NaN</td>\n",
       "      <td>NaN</td>\n",
       "      <td>Commercial Insurance Premium</td>\n",
       "      <td>2016</td>\n",
       "    </tr>\n",
       "    <tr>\n",
       "      <th>2</th>\n",
       "      <td>The New India Assurance</td>\n",
       "      <td>NaN</td>\n",
       "      <td>NaN</td>\n",
       "      <td>NaN</td>\n",
       "      <td>Personal Insurance Premium</td>\n",
       "      <td>2016</td>\n",
       "    </tr>\n",
       "    <tr>\n",
       "      <th>3</th>\n",
       "      <td>HDFC ERGO General Insurance</td>\n",
       "      <td>2346.0</td>\n",
       "      <td>47539.0</td>\n",
       "      <td>23521.0</td>\n",
       "      <td>Commercial Insurance Premium</td>\n",
       "      <td>2018</td>\n",
       "    </tr>\n",
       "    <tr>\n",
       "      <th>4</th>\n",
       "      <td>HDFC ERGO General Insurance</td>\n",
       "      <td>2122.0</td>\n",
       "      <td>35455.0</td>\n",
       "      <td>73845.0</td>\n",
       "      <td>Commercial Insurance Premium</td>\n",
       "      <td>2015</td>\n",
       "    </tr>\n",
       "  </tbody>\n",
       "</table>\n",
       "</div>"
      ],
      "text/plain": [
       "                     Insurance  Policy Holders  Premium Amounts  \\\n",
       "0      The New India Assurance          4582.0          41970.0   \n",
       "1   TATA AIG General Insurance             NaN              NaN   \n",
       "2      The New India Assurance             NaN              NaN   \n",
       "3  HDFC ERGO General Insurance          2346.0          47539.0   \n",
       "4  HDFC ERGO General Insurance          2122.0          35455.0   \n",
       "\n",
       "   Claim Amounts                  Premium Type  Year  \n",
       "0        63849.0  Commercial Insurance Premium  2017  \n",
       "1            NaN  Commercial Insurance Premium  2016  \n",
       "2            NaN    Personal Insurance Premium  2016  \n",
       "3        23521.0  Commercial Insurance Premium  2018  \n",
       "4        73845.0  Commercial Insurance Premium  2015  "
      ]
     },
     "execution_count": 67,
     "metadata": {},
     "output_type": "execute_result"
    }
   ],
   "source": [
    "year_mapping = {2014: 2018, 2015: 2017, 2017: 2015, 2018: 2014}\n",
    "df['Year'] = np.random.choice(['2018','2017','2016', '2015', '2014'], size=len(df))\n",
    "df['Year'] = df['Year'].replace(year_mapping)\n",
    "\n",
    "df.head()"
   ]
  },
  {
   "cell_type": "code",
   "execution_count": 25,
   "id": "d05c45e3",
   "metadata": {},
   "outputs": [],
   "source": [
    "df.to_csv('D:\\Analytics\\Aegys Covenant Cust Dataset\\Main\\insurancedata1.csv')"
   ]
  },
  {
   "cell_type": "markdown",
   "id": "a44e47b4",
   "metadata": {},
   "source": [
    "."
   ]
  },
  {
   "cell_type": "code",
   "execution_count": 68,
   "id": "da703bec",
   "metadata": {},
   "outputs": [],
   "source": [
    "df2 = df.copy()"
   ]
  },
  {
   "cell_type": "code",
   "execution_count": 74,
   "id": "3d286b0d",
   "metadata": {},
   "outputs": [],
   "source": [
    "df2.drop('Year', axis=1, inplace=True)"
   ]
  },
  {
   "cell_type": "code",
   "execution_count": 75,
   "id": "9855aa1d",
   "metadata": {},
   "outputs": [
    {
     "data": {
      "text/plain": [
       "(7983, 5)"
      ]
     },
     "execution_count": 75,
     "metadata": {},
     "output_type": "execute_result"
    }
   ],
   "source": [
    "df2.shape"
   ]
  },
  {
   "cell_type": "code",
   "execution_count": 76,
   "id": "d470868d",
   "metadata": {},
   "outputs": [
    {
     "data": {
      "text/html": [
       "<div>\n",
       "<style scoped>\n",
       "    .dataframe tbody tr th:only-of-type {\n",
       "        vertical-align: middle;\n",
       "    }\n",
       "\n",
       "    .dataframe tbody tr th {\n",
       "        vertical-align: top;\n",
       "    }\n",
       "\n",
       "    .dataframe thead th {\n",
       "        text-align: right;\n",
       "    }\n",
       "</style>\n",
       "<table border=\"1\" class=\"dataframe\">\n",
       "  <thead>\n",
       "    <tr style=\"text-align: right;\">\n",
       "      <th></th>\n",
       "      <th>Insurance</th>\n",
       "      <th>Policy Holders</th>\n",
       "      <th>Premium Amounts</th>\n",
       "      <th>Claim Amounts</th>\n",
       "      <th>Premium Type</th>\n",
       "    </tr>\n",
       "  </thead>\n",
       "  <tbody>\n",
       "    <tr>\n",
       "      <th>0</th>\n",
       "      <td>The New India Assurance</td>\n",
       "      <td>4582.0</td>\n",
       "      <td>41970.0</td>\n",
       "      <td>63849.0</td>\n",
       "      <td>Commercial Insurance Premium</td>\n",
       "    </tr>\n",
       "    <tr>\n",
       "      <th>3</th>\n",
       "      <td>HDFC ERGO General Insurance</td>\n",
       "      <td>2346.0</td>\n",
       "      <td>47539.0</td>\n",
       "      <td>23521.0</td>\n",
       "      <td>Commercial Insurance Premium</td>\n",
       "    </tr>\n",
       "    <tr>\n",
       "      <th>4</th>\n",
       "      <td>HDFC ERGO General Insurance</td>\n",
       "      <td>2122.0</td>\n",
       "      <td>35455.0</td>\n",
       "      <td>73845.0</td>\n",
       "      <td>Commercial Insurance Premium</td>\n",
       "    </tr>\n",
       "    <tr>\n",
       "      <th>5</th>\n",
       "      <td>HDFC ERGO General Insurance</td>\n",
       "      <td>2766.0</td>\n",
       "      <td>36284.0</td>\n",
       "      <td>30076.0</td>\n",
       "      <td>Personal Insurance Premium</td>\n",
       "    </tr>\n",
       "    <tr>\n",
       "      <th>6</th>\n",
       "      <td>The New India Assurance</td>\n",
       "      <td>4089.0</td>\n",
       "      <td>23059.0</td>\n",
       "      <td>79203.0</td>\n",
       "      <td>Commercial Insurance Premium</td>\n",
       "    </tr>\n",
       "    <tr>\n",
       "      <th>...</th>\n",
       "      <td>...</td>\n",
       "      <td>...</td>\n",
       "      <td>...</td>\n",
       "      <td>...</td>\n",
       "      <td>...</td>\n",
       "    </tr>\n",
       "    <tr>\n",
       "      <th>9995</th>\n",
       "      <td>TATA AIG General Insurance</td>\n",
       "      <td>4117.0</td>\n",
       "      <td>42532.0</td>\n",
       "      <td>40497.0</td>\n",
       "      <td>Personal Insurance Premium</td>\n",
       "    </tr>\n",
       "    <tr>\n",
       "      <th>9996</th>\n",
       "      <td>TATA AIG General Insurance</td>\n",
       "      <td>3608.0</td>\n",
       "      <td>42243.0</td>\n",
       "      <td>48466.0</td>\n",
       "      <td>Personal Insurance Premium</td>\n",
       "    </tr>\n",
       "    <tr>\n",
       "      <th>9997</th>\n",
       "      <td>TATA AIG General Insurance</td>\n",
       "      <td>4401.0</td>\n",
       "      <td>36990.0</td>\n",
       "      <td>27490.0</td>\n",
       "      <td>Commercial Insurance Premium</td>\n",
       "    </tr>\n",
       "    <tr>\n",
       "      <th>9998</th>\n",
       "      <td>TATA AIG General Insurance</td>\n",
       "      <td>1082.0</td>\n",
       "      <td>24775.0</td>\n",
       "      <td>71633.0</td>\n",
       "      <td>Commercial Insurance Premium</td>\n",
       "    </tr>\n",
       "    <tr>\n",
       "      <th>9999</th>\n",
       "      <td>TATA AIG General Insurance</td>\n",
       "      <td>2114.0</td>\n",
       "      <td>46319.0</td>\n",
       "      <td>56320.0</td>\n",
       "      <td>Commercial Insurance Premium</td>\n",
       "    </tr>\n",
       "  </tbody>\n",
       "</table>\n",
       "<p>7983 rows × 5 columns</p>\n",
       "</div>"
      ],
      "text/plain": [
       "                        Insurance  Policy Holders  Premium Amounts  \\\n",
       "0         The New India Assurance          4582.0          41970.0   \n",
       "3     HDFC ERGO General Insurance          2346.0          47539.0   \n",
       "4     HDFC ERGO General Insurance          2122.0          35455.0   \n",
       "5     HDFC ERGO General Insurance          2766.0          36284.0   \n",
       "6         The New India Assurance          4089.0          23059.0   \n",
       "...                           ...             ...              ...   \n",
       "9995   TATA AIG General Insurance          4117.0          42532.0   \n",
       "9996   TATA AIG General Insurance          3608.0          42243.0   \n",
       "9997   TATA AIG General Insurance          4401.0          36990.0   \n",
       "9998   TATA AIG General Insurance          1082.0          24775.0   \n",
       "9999   TATA AIG General Insurance          2114.0          46319.0   \n",
       "\n",
       "      Claim Amounts                  Premium Type  \n",
       "0           63849.0  Commercial Insurance Premium  \n",
       "3           23521.0  Commercial Insurance Premium  \n",
       "4           73845.0  Commercial Insurance Premium  \n",
       "5           30076.0    Personal Insurance Premium  \n",
       "6           79203.0  Commercial Insurance Premium  \n",
       "...             ...                           ...  \n",
       "9995        40497.0    Personal Insurance Premium  \n",
       "9996        48466.0    Personal Insurance Premium  \n",
       "9997        27490.0  Commercial Insurance Premium  \n",
       "9998        71633.0  Commercial Insurance Premium  \n",
       "9999        56320.0  Commercial Insurance Premium  \n",
       "\n",
       "[7983 rows x 5 columns]"
      ]
     },
     "execution_count": 76,
     "metadata": {},
     "output_type": "execute_result"
    }
   ],
   "source": [
    "df2=df2.dropna()\n",
    "df2"
   ]
  },
  {
   "cell_type": "markdown",
   "id": "8ad17757",
   "metadata": {},
   "source": [
    "."
   ]
  },
  {
   "cell_type": "markdown",
   "id": "4919a15b",
   "metadata": {},
   "source": [
    "."
   ]
  },
  {
   "cell_type": "markdown",
   "id": "5ac33922",
   "metadata": {},
   "source": [
    "### Backups"
   ]
  },
  {
   "cell_type": "code",
   "execution_count": 77,
   "id": "93ca6011",
   "metadata": {},
   "outputs": [],
   "source": [
    "df10=insurance_data.copy()"
   ]
  },
  {
   "cell_type": "markdown",
   "id": "2010bcd0",
   "metadata": {},
   "source": [
    "."
   ]
  },
  {
   "cell_type": "markdown",
   "id": "9e51e023",
   "metadata": {},
   "source": [
    "."
   ]
  },
  {
   "cell_type": "code",
   "execution_count": 80,
   "id": "a1d58653",
   "metadata": {},
   "outputs": [
    {
     "data": {
      "text/plain": [
       "7983"
      ]
     },
     "execution_count": 80,
     "metadata": {},
     "output_type": "execute_result"
    }
   ],
   "source": [
    "length = len(df2)\n",
    "length"
   ]
  },
  {
   "cell_type": "code",
   "execution_count": 82,
   "id": "dea2db41",
   "metadata": {},
   "outputs": [
    {
     "data": {
      "text/html": [
       "<div>\n",
       "<style scoped>\n",
       "    .dataframe tbody tr th:only-of-type {\n",
       "        vertical-align: middle;\n",
       "    }\n",
       "\n",
       "    .dataframe tbody tr th {\n",
       "        vertical-align: top;\n",
       "    }\n",
       "\n",
       "    .dataframe thead th {\n",
       "        text-align: right;\n",
       "    }\n",
       "</style>\n",
       "<table border=\"1\" class=\"dataframe\">\n",
       "  <thead>\n",
       "    <tr style=\"text-align: right;\">\n",
       "      <th></th>\n",
       "      <th>Insurance</th>\n",
       "      <th>Policy Holders</th>\n",
       "      <th>Premium Amounts</th>\n",
       "      <th>Claim Amounts</th>\n",
       "      <th>Premium Type</th>\n",
       "      <th>Insurance Year</th>\n",
       "      <th>Casualty Year</th>\n",
       "      <th>Casualty Month</th>\n",
       "      <th>Total Vehicles Crashed</th>\n",
       "      <th>Sex</th>\n",
       "      <th>Age</th>\n",
       "    </tr>\n",
       "  </thead>\n",
       "  <tbody>\n",
       "    <tr>\n",
       "      <th>0</th>\n",
       "      <td>The New India Assurance</td>\n",
       "      <td>4582</td>\n",
       "      <td>41970.0</td>\n",
       "      <td>63849.0</td>\n",
       "      <td>Commercial Insurance Premium</td>\n",
       "      <td>2015</td>\n",
       "      <td>2016</td>\n",
       "      <td>November</td>\n",
       "      <td>2</td>\n",
       "      <td>Female</td>\n",
       "      <td>72</td>\n",
       "    </tr>\n",
       "    <tr>\n",
       "      <th>3</th>\n",
       "      <td>HDFC ERGO General Insurance</td>\n",
       "      <td>2346</td>\n",
       "      <td>47539.0</td>\n",
       "      <td>23521.0</td>\n",
       "      <td>Commercial Insurance Premium</td>\n",
       "      <td>2015</td>\n",
       "      <td>2016</td>\n",
       "      <td>June</td>\n",
       "      <td>10</td>\n",
       "      <td>Female</td>\n",
       "      <td>48</td>\n",
       "    </tr>\n",
       "    <tr>\n",
       "      <th>4</th>\n",
       "      <td>HDFC ERGO General Insurance</td>\n",
       "      <td>2122</td>\n",
       "      <td>35455.0</td>\n",
       "      <td>73845.0</td>\n",
       "      <td>Commercial Insurance Premium</td>\n",
       "      <td>2018</td>\n",
       "      <td>2019</td>\n",
       "      <td>May</td>\n",
       "      <td>1</td>\n",
       "      <td>Male</td>\n",
       "      <td>78</td>\n",
       "    </tr>\n",
       "    <tr>\n",
       "      <th>5</th>\n",
       "      <td>HDFC ERGO General Insurance</td>\n",
       "      <td>2766</td>\n",
       "      <td>36284.0</td>\n",
       "      <td>30076.0</td>\n",
       "      <td>Personal Insurance Premium</td>\n",
       "      <td>2015</td>\n",
       "      <td>2016</td>\n",
       "      <td>July</td>\n",
       "      <td>3</td>\n",
       "      <td>Female</td>\n",
       "      <td>42</td>\n",
       "    </tr>\n",
       "    <tr>\n",
       "      <th>6</th>\n",
       "      <td>The New India Assurance</td>\n",
       "      <td>4089</td>\n",
       "      <td>23059.0</td>\n",
       "      <td>79203.0</td>\n",
       "      <td>Commercial Insurance Premium</td>\n",
       "      <td>2015</td>\n",
       "      <td>2016</td>\n",
       "      <td>April</td>\n",
       "      <td>7</td>\n",
       "      <td>Female</td>\n",
       "      <td>59</td>\n",
       "    </tr>\n",
       "  </tbody>\n",
       "</table>\n",
       "</div>"
      ],
      "text/plain": [
       "                     Insurance  Policy Holders  Premium Amounts  \\\n",
       "0      The New India Assurance            4582          41970.0   \n",
       "3  HDFC ERGO General Insurance            2346          47539.0   \n",
       "4  HDFC ERGO General Insurance            2122          35455.0   \n",
       "5  HDFC ERGO General Insurance            2766          36284.0   \n",
       "6      The New India Assurance            4089          23059.0   \n",
       "\n",
       "   Claim Amounts                  Premium Type  Insurance Year  Casualty Year  \\\n",
       "0        63849.0  Commercial Insurance Premium            2015           2016   \n",
       "3        23521.0  Commercial Insurance Premium            2015           2016   \n",
       "4        73845.0  Commercial Insurance Premium            2018           2019   \n",
       "5        30076.0    Personal Insurance Premium            2015           2016   \n",
       "6        79203.0  Commercial Insurance Premium            2015           2016   \n",
       "\n",
       "  Casualty Month  Total Vehicles Crashed     Sex  Age  \n",
       "0       November                       2  Female   72  \n",
       "3           June                      10  Female   48  \n",
       "4            May                       1    Male   78  \n",
       "5           July                       3  Female   42  \n",
       "6          April                       7  Female   59  "
      ]
     },
     "execution_count": 82,
     "metadata": {},
     "output_type": "execute_result"
    }
   ],
   "source": [
    "# I have added some more information in the data\n",
    "import pandas as pd\n",
    "import numpy as np\n",
    "\n",
    "# Total number of vehicle crashed on specific month/year\n",
    "# months of casualties\n",
    "months = ['January', 'February', 'March', 'April', 'May', 'June',\n",
    "          'July', 'August', 'September', 'October', 'November', 'December']\n",
    "\n",
    "df2['Insurance Year'] = np.random.choice(['2018', '2017', '2016', '2015', '2014'], size=length)\n",
    "df2['Insurance Year'] = df2['Insurance Year'].astype(int)\n",
    "df2['Casualty Year'] = np.random.choice(['2014', '2018', '2017', '2016', '2015'], size=length)\n",
    "df2['Casualty Year'] = df2['Insurance Year'].astype(int)\n",
    "df2['Casualty Year'] = np.maximum( df2['Insurance Year'] + 1, df2['Casualty Year'])\n",
    "df2['Casualty Month'] = np.random.choice(months, size=length)\n",
    "\n",
    "number_of_vehicles_crashed = np.random.randint(1,11,size=length)\n",
    "sex_of_casualty = np.random.choice(['Female','Male'], size=length)\n",
    "age_of_casualty = np.random.randint(18,80,size=length)   # Age range from 18-80\n",
    "\n",
    "df2['Total Vehicles Crashed'] = number_of_vehicles_crashed\n",
    "df2['Sex'] = sex_of_casualty\n",
    "df2['Age'] = age_of_casualty\n",
    "df2['Policy Holders'] = df2['Policy Holders'].astype(int)\n",
    "df2.head()"
   ]
  },
  {
   "cell_type": "code",
   "execution_count": 87,
   "id": "02543662",
   "metadata": {},
   "outputs": [],
   "source": [
    "df2.to_csv(r'D:\\Analytics\\Aegys Covenant Cust Dataset\\Road Traffic Accident\\Main\\New folder\\df2.csv')"
   ]
  },
  {
   "cell_type": "code",
   "execution_count": 84,
   "id": "04a90750",
   "metadata": {},
   "outputs": [
    {
     "data": {
      "text/plain": [
       "(7983, 11)"
      ]
     },
     "execution_count": 84,
     "metadata": {},
     "output_type": "execute_result"
    }
   ],
   "source": [
    "df2.shape"
   ]
  },
  {
   "cell_type": "code",
   "execution_count": 85,
   "id": "e5e1f1e7",
   "metadata": {
    "collapsed": true
   },
   "outputs": [
    {
     "name": "stdout",
     "output_type": "stream",
     "text": [
      "<class 'pandas.core.frame.DataFrame'>\n",
      "Int64Index: 7983 entries, 0 to 9999\n",
      "Data columns (total 11 columns):\n",
      " #   Column                  Non-Null Count  Dtype  \n",
      "---  ------                  --------------  -----  \n",
      " 0   Insurance               7983 non-null   object \n",
      " 1   Policy Holders          7983 non-null   int32  \n",
      " 2   Premium Amounts         7983 non-null   float64\n",
      " 3   Claim Amounts           7983 non-null   float64\n",
      " 4   Premium Type            7983 non-null   object \n",
      " 5   Insurance Year          7983 non-null   int32  \n",
      " 6   Casualty Year           7983 non-null   int32  \n",
      " 7   Casualty Month          7983 non-null   object \n",
      " 8   Total Vehicles Crashed  7983 non-null   int32  \n",
      " 9   Sex                     7983 non-null   object \n",
      " 10  Age                     7983 non-null   int32  \n",
      "dtypes: float64(2), int32(5), object(4)\n",
      "memory usage: 592.5+ KB\n"
     ]
    }
   ],
   "source": [
    "df2.info()"
   ]
  },
  {
   "cell_type": "markdown",
   "id": "98ec06a5",
   "metadata": {},
   "source": [
    "."
   ]
  },
  {
   "cell_type": "markdown",
   "id": "4ca6fcff",
   "metadata": {},
   "source": [
    "."
   ]
  },
  {
   "cell_type": "markdown",
   "id": "46850c19",
   "metadata": {},
   "source": [
    "."
   ]
  },
  {
   "cell_type": "markdown",
   "id": "c8f4a908",
   "metadata": {},
   "source": [
    " ### I made the dummy dataset of 8000 instances with all the info to Analyze India Insurance Maket"
   ]
  },
  {
   "cell_type": "markdown",
   "id": "0c84fd4c",
   "metadata": {},
   "source": [
    "#### Step 1: Data Understanding and Preparation:"
   ]
  },
  {
   "cell_type": "code",
   "execution_count": 88,
   "id": "77f88834",
   "metadata": {},
   "outputs": [],
   "source": [
    "df3 = df2.copy()"
   ]
  },
  {
   "cell_type": "markdown",
   "id": "fb90961b",
   "metadata": {},
   "source": [
    "."
   ]
  },
  {
   "cell_type": "code",
   "execution_count": 108,
   "id": "8cd23df4",
   "metadata": {},
   "outputs": [
    {
     "name": "stdout",
     "output_type": "stream",
     "text": [
      "<class 'pandas.core.frame.DataFrame'>\n",
      "Int64Index: 7983 entries, 0 to 9999\n",
      "Data columns (total 11 columns):\n",
      " #   Column                  Non-Null Count  Dtype  \n",
      "---  ------                  --------------  -----  \n",
      " 0   Insurance               7983 non-null   object \n",
      " 1   Policy Holders          7983 non-null   int32  \n",
      " 2   Premium Amounts         7983 non-null   float64\n",
      " 3   Claim Amounts           7983 non-null   float64\n",
      " 4   Premium Type            7983 non-null   object \n",
      " 5   Insurance Year          7983 non-null   int32  \n",
      " 6   Casualty Year           7983 non-null   int32  \n",
      " 7   Casualty Month          7983 non-null   object \n",
      " 8   Total Vehicles Crashed  7983 non-null   int32  \n",
      " 9   Sex                     7983 non-null   object \n",
      " 10  Age                     7983 non-null   int32  \n",
      "dtypes: float64(2), int32(5), object(4)\n",
      "memory usage: 592.5+ KB\n"
     ]
    },
    {
     "data": {
      "text/plain": [
       "0"
      ]
     },
     "execution_count": 108,
     "metadata": {},
     "output_type": "execute_result"
    }
   ],
   "source": [
    "df3.head()\n",
    "df3.describe()\n",
    "df3.info()\n",
    "df3.isna().sum().sum()"
   ]
  },
  {
   "cell_type": "markdown",
   "id": "3266b966",
   "metadata": {},
   "source": [
    "#### Step 2: Exploratory Data Analysis (EDA):"
   ]
  },
  {
   "cell_type": "code",
   "execution_count": null,
   "id": "eafd9ad3",
   "metadata": {},
   "outputs": [],
   "source": []
  },
  {
   "cell_type": "markdown",
   "id": "4c252b2d",
   "metadata": {},
   "source": [
    "Key Players:\n",
    "- List the major companies operating in the India Two Wheeler Insurance Market.\n",
    "\n",
    "- Mention some of the key players, such as The New India Assurance', 'HDFC ERGO General Insurance','The Oriental Insurance Company','TATA AIG General Insurance','ICICI Lombard General Insurance'."
   ]
  },
  {
   "cell_type": "code",
   "execution_count": 115,
   "id": "abfddf90",
   "metadata": {},
   "outputs": [
    {
     "data": {
      "text/html": [
       "<div>\n",
       "<style scoped>\n",
       "    .dataframe tbody tr th:only-of-type {\n",
       "        vertical-align: middle;\n",
       "    }\n",
       "\n",
       "    .dataframe tbody tr th {\n",
       "        vertical-align: top;\n",
       "    }\n",
       "\n",
       "    .dataframe thead th {\n",
       "        text-align: right;\n",
       "    }\n",
       "</style>\n",
       "<table border=\"1\" class=\"dataframe\">\n",
       "  <thead>\n",
       "    <tr style=\"text-align: right;\">\n",
       "      <th></th>\n",
       "      <th>Policy Holders</th>\n",
       "      <th>Premium Amounts</th>\n",
       "      <th>Claim Amounts</th>\n",
       "    </tr>\n",
       "    <tr>\n",
       "      <th>Insurance</th>\n",
       "      <th></th>\n",
       "      <th></th>\n",
       "      <th></th>\n",
       "    </tr>\n",
       "  </thead>\n",
       "  <tbody>\n",
       "    <tr>\n",
       "      <th>The New India Assurance</th>\n",
       "      <td>4989641</td>\n",
       "      <td>57175793.0</td>\n",
       "      <td>98204764.0</td>\n",
       "    </tr>\n",
       "    <tr>\n",
       "      <th>TATA AIG General Insurance</th>\n",
       "      <td>4912271</td>\n",
       "      <td>56827027.0</td>\n",
       "      <td>98563984.0</td>\n",
       "    </tr>\n",
       "    <tr>\n",
       "      <th>HDFC ERGO General Insurance</th>\n",
       "      <td>4787139</td>\n",
       "      <td>56425592.0</td>\n",
       "      <td>95367921.0</td>\n",
       "    </tr>\n",
       "    <tr>\n",
       "      <th>ICICI Lombard General Insurance</th>\n",
       "      <td>4746955</td>\n",
       "      <td>54567671.0</td>\n",
       "      <td>96020977.0</td>\n",
       "    </tr>\n",
       "    <tr>\n",
       "      <th>The Oriental Insurance Company</th>\n",
       "      <td>4635722</td>\n",
       "      <td>54313737.0</td>\n",
       "      <td>93285465.0</td>\n",
       "    </tr>\n",
       "  </tbody>\n",
       "</table>\n",
       "</div>"
      ],
      "text/plain": [
       "                                 Policy Holders  Premium Amounts  \\\n",
       "Insurance                                                          \n",
       "The New India Assurance                 4989641       57175793.0   \n",
       "TATA AIG General Insurance              4912271       56827027.0   \n",
       "HDFC ERGO General Insurance             4787139       56425592.0   \n",
       "ICICI Lombard General Insurance         4746955       54567671.0   \n",
       "The Oriental Insurance Company          4635722       54313737.0   \n",
       "\n",
       "                                 Claim Amounts  \n",
       "Insurance                                       \n",
       "The New India Assurance             98204764.0  \n",
       "TATA AIG General Insurance          98563984.0  \n",
       "HDFC ERGO General Insurance         95367921.0  \n",
       "ICICI Lombard General Insurance     96020977.0  \n",
       "The Oriental Insurance Company      93285465.0  "
      ]
     },
     "execution_count": 115,
     "metadata": {},
     "output_type": "execute_result"
    }
   ],
   "source": [
    "top_insurance_providers = df3.groupby('Insurance')[['Policy Holders','Premium Amounts','Claim Amounts']].sum().sort_values(by='Policy Holders', ascending=False)\n",
    "top_insurance_providers"
   ]
  },
  {
   "cell_type": "code",
   "execution_count": 120,
   "id": "ddf43471",
   "metadata": {},
   "outputs": [],
   "source": [
    "df4 = df3.copy()\n",
    "df4[\"Region\"]=np.random.choice(['West Region', 'East Region', 'North Region', 'South Region'], size=length)\n",
    "df3['Region']=df4['Region']\n",
    "df2['Region']=df4['Region']"
   ]
  },
  {
   "cell_type": "code",
   "execution_count": 121,
   "id": "055704b2",
   "metadata": {},
   "outputs": [],
   "source": [
    "import seaborn as sns\n",
    "import matplotlib.pyplot as plt"
   ]
  },
  {
   "cell_type": "code",
   "execution_count": 124,
   "id": "cd80a16a",
   "metadata": {},
   "outputs": [
    {
     "data": {
      "image/png": "[encoded data removed]",
      "text/plain": [
       "<Figure size 432x288 with 1 Axes>"
      ]
     },
     "metadata": {
      "needs_background": "light"
     },
     "output_type": "display_data"
    }
   ],
   "source": [
    "# Visualize the distributions of variables\n",
    "sns.histplot(df3['Premium Amounts'])\n",
    "plt.show()"
   ]
  },
  {
   "cell_type": "code",
   "execution_count": 131,
   "id": "5dc47d05",
   "metadata": {},
   "outputs": [
    {
     "data": {
      "image/png": "[encoded data removed]",
      "text/plain": [
       "<Figure size 432x288 with 1 Axes>"
      ]
     },
     "metadata": {
      "needs_background": "light"
     },
     "output_type": "display_data"
    }
   ],
   "source": [
    "# Explore relationships between variables\n",
    "sns.scatterplot(x='Age', y='Claim Amounts', data=df3)\n",
    "plt.show()"
   ]
  },
  {
   "cell_type": "code",
   "execution_count": 132,
   "id": "67f0d345",
   "metadata": {},
   "outputs": [
    {
     "name": "stdout",
     "output_type": "stream",
     "text": [
      "Mean Premium Amount: 34988.077163973445\n"
     ]
    }
   ],
   "source": [
    "# Calculate summary statistics\n",
    "mean_premium = df3['Premium Amounts'].mean()\n",
    "print(\"Mean Premium Amount:\", mean_premium)"
   ]
  },
  {
   "cell_type": "code",
   "execution_count": null,
   "id": "6f6d37aa",
   "metadata": {},
   "outputs": [],
   "source": []
  },
  {
   "cell_type": "markdown",
   "id": "d6e563d4",
   "metadata": {},
   "source": [
    "#### Step 3: Descriptive Analytics:"
   ]
  },
  {
   "cell_type": "code",
   "execution_count": 137,
   "id": "926b88c9",
   "metadata": {},
   "outputs": [
    {
     "name": "stdout",
     "output_type": "stream",
     "text": [
      "top_insurance_companies:\n",
      "Insurance\n",
      "The New India Assurance            4989641\n",
      "TATA AIG General Insurance         4912271\n",
      "HDFC ERGO General Insurance        4787139\n",
      "ICICI Lombard General Insurance    4746955\n",
      "The Oriental Insurance Company     4635722\n",
      "Name: Policy Holders, dtype: int32\n"
     ]
    }
   ],
   "source": [
    "# Top insurance companies based on policy holders\n",
    "top_companies = df3.groupby('Insurance')['Policy Holders'].sum().sort_values(ascending=False)\n",
    "print(\"top_insurance_companies:\")\n",
    "print(top_companies)"
   ]
  },
  {
   "cell_type": "markdown",
   "id": "51c3efb7",
   "metadata": {},
   "source": [
    "Top insurance providers based on total policy holders-->"
   ]
  },
  {
   "cell_type": "code",
   "execution_count": 140,
   "id": "5e206cf3",
   "metadata": {},
   "outputs": [
    {
     "name": "stdout",
     "output_type": "stream",
     "text": [
      "Premium_Type_Distribution:\n",
      "Commercial Insurance Premium    4000\n",
      "Personal Insurance Premium      3983\n",
      "Name: Premium Type, dtype: int64\n"
     ]
    }
   ],
   "source": [
    "# Distribution of premium types\n",
    "premium_type_counts = df3['Premium Type'].value_counts()\n",
    "print(\"Premium_Type_Distribution:\")\n",
    "print(premium_type_counts)"
   ]
  },
  {
   "cell_type": "code",
   "execution_count": 141,
   "id": "cd3c599d",
   "metadata": {},
   "outputs": [
    {
     "data": {
      "text/plain": [
       "Casualty Year\n",
       "2015    8970\n",
       "2016    8614\n",
       "2017    8896\n",
       "2018    8902\n",
       "2019    8835\n",
       "Name: Total Vehicles Crashed, dtype: int32"
      ]
     },
     "execution_count": 141,
     "metadata": {},
     "output_type": "execute_result"
    }
   ],
   "source": [
    "# Distribution of casualties across years and months\n",
    "casualties_by_year = df3.groupby('Casualty Year')['Total Vehicles Crashed'].sum()\n",
    "casualties_by_month = df3.groupby('Casualty Month')['Total Vehicles Crashed'].sum()\n",
    "casualties_by_month\n",
    "casualties_by_year"
   ]
  },
  {
   "cell_type": "markdown",
   "id": "cc91850f",
   "metadata": {},
   "source": [
    "### CAGR = Compond Annual Growth Rate"
   ]
  },
  {
   "cell_type": "code",
   "execution_count": 142,
   "id": "7282f703",
   "metadata": {},
   "outputs": [],
   "source": [
    "start = 2014\n",
    "ending = 2018\n",
    "number_of_years = 5"
   ]
  },
  {
   "cell_type": "code",
   "execution_count": 144,
   "id": "d893aad1",
   "metadata": {},
   "outputs": [
    {
     "name": "stdout",
     "output_type": "stream",
     "text": [
      "CAGR 0.00039690427267458084\n"
     ]
    }
   ],
   "source": [
    "cagr = (ending/start)**(1/number_of_years)-1\n",
    "print(\"CAGR\",cagr)"
   ]
  },
  {
   "cell_type": "code",
   "execution_count": null,
   "id": "6584a7c7",
   "metadata": {},
   "outputs": [],
   "source": []
  },
  {
   "cell_type": "code",
   "execution_count": 146,
   "id": "18a9890e",
   "metadata": {},
   "outputs": [
    {
     "data": {
      "text/html": [
       "<div>\n",
       "<style scoped>\n",
       "    .dataframe tbody tr th:only-of-type {\n",
       "        vertical-align: middle;\n",
       "    }\n",
       "\n",
       "    .dataframe tbody tr th {\n",
       "        vertical-align: top;\n",
       "    }\n",
       "\n",
       "    .dataframe thead th {\n",
       "        text-align: right;\n",
       "    }\n",
       "</style>\n",
       "<table border=\"1\" class=\"dataframe\">\n",
       "  <thead>\n",
       "    <tr style=\"text-align: right;\">\n",
       "      <th></th>\n",
       "      <th>Policy Holders</th>\n",
       "      <th>Premium Amounts</th>\n",
       "      <th>Claim Amounts</th>\n",
       "    </tr>\n",
       "    <tr>\n",
       "      <th>Insurance Year</th>\n",
       "      <th></th>\n",
       "      <th></th>\n",
       "      <th></th>\n",
       "    </tr>\n",
       "  </thead>\n",
       "  <tbody>\n",
       "    <tr>\n",
       "      <th>2014</th>\n",
       "      <td>4835848</td>\n",
       "      <td>56672020.0</td>\n",
       "      <td>97212968.0</td>\n",
       "    </tr>\n",
       "    <tr>\n",
       "      <th>2015</th>\n",
       "      <td>4733289</td>\n",
       "      <td>53785000.0</td>\n",
       "      <td>92750067.0</td>\n",
       "    </tr>\n",
       "    <tr>\n",
       "      <th>2016</th>\n",
       "      <td>4895915</td>\n",
       "      <td>56545812.0</td>\n",
       "      <td>98020471.0</td>\n",
       "    </tr>\n",
       "    <tr>\n",
       "      <th>2017</th>\n",
       "      <td>4840174</td>\n",
       "      <td>56335592.0</td>\n",
       "      <td>96413404.0</td>\n",
       "    </tr>\n",
       "    <tr>\n",
       "      <th>2018</th>\n",
       "      <td>4766502</td>\n",
       "      <td>55971396.0</td>\n",
       "      <td>97046201.0</td>\n",
       "    </tr>\n",
       "  </tbody>\n",
       "</table>\n",
       "</div>"
      ],
      "text/plain": [
       "                Policy Holders  Premium Amounts  Claim Amounts\n",
       "Insurance Year                                                \n",
       "2014                   4835848       56672020.0     97212968.0\n",
       "2015                   4733289       53785000.0     92750067.0\n",
       "2016                   4895915       56545812.0     98020471.0\n",
       "2017                   4840174       56335592.0     96413404.0\n",
       "2018                   4766502       55971396.0     97046201.0"
      ]
     },
     "execution_count": 146,
     "metadata": {},
     "output_type": "execute_result"
    }
   ],
   "source": [
    "df2.groupby('Insurance Year').agg({'Policy Holders':'sum','Premium Amounts':'sum', 'Claim Amounts':'sum'})"
   ]
  },
  {
   "cell_type": "code",
   "execution_count": null,
   "id": "9e5f46b3",
   "metadata": {},
   "outputs": [],
   "source": [
    "df2[\"Vehicle Type\"] = df2[\"Vehicle Type\"].replace({'Used Two Wheeler':'Old','New Two Wheeler':'New'})"
   ]
  },
  {
   "cell_type": "markdown",
   "id": "2011acb7",
   "metadata": {},
   "source": []
  },
  {
   "cell_type": "markdown",
   "id": "3069c99b",
   "metadata": {},
   "source": [
    "dxmax(): The idxmax() function returns the index label corresponding to the maximum value in a Series or DataFrame column. It is used to find the label/index of the maximum value in a column.\n",
    "\n",
    "nlargest(): The nlargest() function is used to retrieve the top N largest values from a Series or DataFrame column. It returns a new Series or DataFrame containing the N largest values, sorted in descending order. By default, it returns the largest values, but you can specify the keep parameter to control the behavior.\n",
    "\n",
    "max_value = df['A'].max()\n",
    "\n",
    "max_index = df['A'].idxmax()\n",
    "\n",
    "top_3_largest = df['A'].nlargest(3)"
   ]
  },
  {
   "cell_type": "markdown",
   "id": "45d0e48b",
   "metadata": {},
   "source": []
  },
  {
   "cell_type": "code",
   "execution_count": 149,
   "id": "49a8ce42",
   "metadata": {},
   "outputs": [
    {
     "data": {
      "text/plain": [
       "Insurance\n",
       "The New India Assurance        4989641\n",
       "TATA AIG General Insurance     4912271\n",
       "HDFC ERGO General Insurance    4787139\n",
       "Name: Policy Holders, dtype: int32"
      ]
     },
     "execution_count": 149,
     "metadata": {},
     "output_type": "execute_result"
    }
   ],
   "source": [
    "insurance_providers=df3.groupby('Insurance')['Policy Holders'].sum()\n",
    "insurance_providers\n",
    "\n",
    "top_insurance_provider = insurance_providers.nlargest(3)\n",
    "top_insurance_provider"
   ]
  },
  {
   "cell_type": "code",
   "execution_count": 150,
   "id": "d56df4c7",
   "metadata": {},
   "outputs": [
    {
     "data": {
      "text/plain": [
       "'The New India Assurance'"
      ]
     },
     "execution_count": 150,
     "metadata": {},
     "output_type": "execute_result"
    }
   ],
   "source": [
    "top_insurance_provider = insurance_providers.idxmax(0)\n",
    "top_insurance_provider"
   ]
  },
  {
   "cell_type": "code",
   "execution_count": 151,
   "id": "14a73194",
   "metadata": {},
   "outputs": [
    {
     "data": {
      "text/plain": [
       "Insurance\n",
       "TATA AIG General Insurance         98563984.0\n",
       "The New India Assurance            98204764.0\n",
       "ICICI Lombard General Insurance    96020977.0\n",
       "HDFC ERGO General Insurance        95367921.0\n",
       "The Oriental Insurance Company     93285465.0\n",
       "Name: Claim Amounts, dtype: float64"
      ]
     },
     "execution_count": 151,
     "metadata": {},
     "output_type": "execute_result"
    }
   ],
   "source": [
    "top_claim_amounts = df3.groupby('Insurance')['Claim Amounts'].sum().sort_values(ascending=False)\n",
    "top_claim_amounts"
   ]
  },
  {
   "cell_type": "markdown",
   "id": "6424074e",
   "metadata": {},
   "source": [
    "TATA AIG General Insurance has more claim amounts than The New India Assurance.\n",
    "However, The New India Assurance has the highest number of policy holders.\n",
    "The New India Assurance also has the highest premium amounts.\n",
    "In summary, while TATA AIG General Insurance may have more claim amounts, The New India Assurance has a larger customer base with the highest number of policy holders and premium amounts."
   ]
  },
  {
   "cell_type": "code",
   "execution_count": 155,
   "id": "f454cfe4",
   "metadata": {},
   "outputs": [
    {
     "name": "stdout",
     "output_type": "stream",
     "text": [
      "              Policy Holders  Premium Amounts  Claim Amounts\n",
      "Region                                                      \n",
      "North Region         6300608       72840034.0    126175607.0\n",
      "South Region         5980896       69068567.0    119251724.0\n",
      "West Region          5959525       69027187.0    119168806.0\n",
      "East Region          5830699       68374032.0    116846974.0\n",
      "\n",
      "Commercial Insurance Premium    4000\n",
      "Personal Insurance Premium      3983\n",
      "Name: Premium Type, dtype: int64\n",
      "\n",
      "                Premium Amounts  Policy Holders  Claim Amounts\n",
      "Insurance Year                                                \n",
      "2014                 56672020.0         4835848     97212968.0\n",
      "2016                 56545812.0         4895915     98020471.0\n",
      "2017                 56335592.0         4840174     96413404.0\n",
      "2018                 55971396.0         4766502     97046201.0\n",
      "2015                 53785000.0         4733289     92750067.0\n",
      "\n",
      "Insurance\n",
      "The New India Assurance        4989641\n",
      "TATA AIG General Insurance     4912271\n",
      "HDFC ERGO General Insurance    4787139\n",
      "Name: Policy Holders, dtype: int32\n"
     ]
    }
   ],
   "source": [
    "regions_total = df3.groupby([\"Region\"])[['Policy Holders', 'Premium Amounts', 'Claim Amounts']].sum().sort_values(by=\"Premium Amounts\", ascending=False)\n",
    "insurance_type_total = df3['Premium Type'].value_counts()\n",
    "top_year = df3.groupby('Insurance Year')[['Premium Amounts', 'Policy Holders', 'Claim Amounts']].sum().sort_values(by=\"Premium Amounts\",ascending=False)\n",
    "top_insurance = df3.groupby('Insurance')['Policy Holders'].sum().nlargest(3).sort_values(ascending=False)\n",
    "\n",
    "print(regions_total)\n",
    "print()\n",
    "print(insurance_type_total)\n",
    "print()\n",
    "print(top_year)\n",
    "print()\n",
    "\n",
    "print(top_insurance)"
   ]
  },
  {
   "cell_type": "code",
   "execution_count": null,
   "id": "275560dd",
   "metadata": {},
   "outputs": [],
   "source": []
  },
  {
   "cell_type": "code",
   "execution_count": 95,
   "id": "329a2c2d",
   "metadata": {},
   "outputs": [],
   "source": [
    "import seaborn as sns\n",
    "import matplotlib.pyplot as plt"
   ]
  },
  {
   "cell_type": "code",
   "execution_count": 99,
   "id": "9c267c7e",
   "metadata": {},
   "outputs": [
    {
     "data": {
      "text/plain": [
       "Index(['Insurance', 'Policy Holders', 'Premium Amounts', 'Claim Amounts',\n",
       "       'Premium Type', 'Insurance Year', 'Casualty Year', 'Casualty Month',\n",
       "       'Total Vehicles Crashed', 'Sex', 'Age'],\n",
       "      dtype='object')"
      ]
     },
     "execution_count": 99,
     "metadata": {},
     "output_type": "execute_result"
    }
   ],
   "source": [
    "df3.columns"
   ]
  },
  {
   "cell_type": "code",
   "execution_count": 196,
   "id": "76b88587",
   "metadata": {
    "scrolled": true
   },
   "outputs": [
    {
     "data": {
      "image/png": "[encoded data removed]",
      "text/plain": [
       "<Figure size 432x288 with 1 Axes>"
      ]
     },
     "metadata": {
      "needs_background": "light"
     },
     "output_type": "display_data"
    }
   ],
   "source": [
    "# Visualize the distributions of variables\n",
    "sns.histplot(pp2)\n",
    "plt.show()"
   ]
  },
  {
   "cell_type": "code",
   "execution_count": 106,
   "id": "09b0dc43",
   "metadata": {},
   "outputs": [],
   "source": [
    "# Visualize the distribution of variables\n"
   ]
  },
  {
   "cell_type": "code",
   "execution_count": 160,
   "id": "7843407f",
   "metadata": {
    "scrolled": true
   },
   "outputs": [
    {
     "data": {
      "text/plain": [
       "Index(['Insurance', 'Policy Holders', 'Premium Amounts', 'Claim Amounts',\n",
       "       'Premium Type', 'Insurance Year', 'Casualty Year', 'Casualty Month',\n",
       "       'Total Vehicles Crashed', 'Sex', 'Age', 'Region'],\n",
       "      dtype='object')"
      ]
     },
     "execution_count": 160,
     "metadata": {},
     "output_type": "execute_result"
    }
   ],
   "source": [
    "df3.columns"
   ]
  },
  {
   "cell_type": "code",
   "execution_count": 194,
   "id": "68d7a474",
   "metadata": {},
   "outputs": [
    {
     "data": {
      "text/plain": [
       "Casualty Year  Casualty Month\n",
       "2015           April             848\n",
       "               August            727\n",
       "               December          625\n",
       "               February          784\n",
       "               January           694\n",
       "               July              708\n",
       "               June              765\n",
       "               March             591\n",
       "               May               777\n",
       "               November          792\n",
       "               October           841\n",
       "               September         818\n",
       "2016           April             614\n",
       "               August            740\n",
       "               December          746\n",
       "               February          693\n",
       "               January           801\n",
       "               July              671\n",
       "               June              779\n",
       "               March             758\n",
       "               May               646\n",
       "               November          683\n",
       "               October           729\n",
       "               September         754\n",
       "2017           April             706\n",
       "               August            756\n",
       "               December          653\n",
       "               February          763\n",
       "               January           756\n",
       "               July              636\n",
       "               June              833\n",
       "               March             737\n",
       "               May               758\n",
       "               November          880\n",
       "               October           672\n",
       "               September         746\n",
       "2018           April             842\n",
       "               August            814\n",
       "               December          784\n",
       "               February          798\n",
       "               January           720\n",
       "               July              715\n",
       "               June              725\n",
       "               March             783\n",
       "               May               570\n",
       "               November          842\n",
       "               October           702\n",
       "               September         607\n",
       "2019           April             707\n",
       "               August            778\n",
       "               December          690\n",
       "               February          756\n",
       "               January           807\n",
       "               July              687\n",
       "               June              746\n",
       "               March             726\n",
       "               May               756\n",
       "               November          679\n",
       "               October           758\n",
       "               September         745\n",
       "Name: Total Vehicles Crashed, dtype: int32"
      ]
     },
     "execution_count": 194,
     "metadata": {},
     "output_type": "execute_result"
    }
   ],
   "source": [
    "pp = df3.groupby('Casualty Year')[['Claim Amounts','Premium Amounts']].sum()\n",
    "pp2 = df3.groupby(['Casualty Year','Casualty Month'])['Total Vehicles Crashed'].sum()\n",
    "pp2"
   ]
  },
  {
   "cell_type": "code",
   "execution_count": 166,
   "id": "a70d68e5",
   "metadata": {
    "collapsed": true
   },
   "outputs": [
    {
     "data": {
      "image/png": "[encoded data removed]",
      "text/plain": [
       "<Figure size 432x288 with 1 Axes>"
      ]
     },
     "metadata": {
      "needs_background": "light"
     },
     "output_type": "display_data"
    },
    {
     "name": "stdout",
     "output_type": "stream",
     "text": [
      "Mean Premium Amount: nan\n"
     ]
    }
   ],
   "source": [
    "# Explore relationships between variables\n",
    "sns.scatterplot(x='Policy Holders', y='Claim Amounts', data=data)\n",
    "plt.show()\n",
    "\n",
    "# Calculate summary statistics\n",
    "mean_premium = data['Premium Amounts'].mean()\n",
    "print(\"Mean Premium Amount:\", mean_premium)"
   ]
  },
  {
   "cell_type": "code",
   "execution_count": 172,
   "id": "a4dbd701",
   "metadata": {},
   "outputs": [
    {
     "data": {
      "text/plain": [
       "Casualty Year  Sex   \n",
       "2017           Female    50479848.0\n",
       "Name: Claim Amounts, dtype: float64"
      ]
     },
     "execution_count": 172,
     "metadata": {},
     "output_type": "execute_result"
    }
   ],
   "source": [
    "casualityclaim=df3.groupby(['Casualty Year','Sex'])['Claim Amounts'].sum().nlargest(1)\n",
    "casualityclaim"
   ]
  },
  {
   "cell_type": "code",
   "execution_count": 198,
   "id": "abf6fa76",
   "metadata": {
    "scrolled": true
   },
   "outputs": [
    {
     "data": {
      "text/plain": [
       "(0.0, 103998.8)"
      ]
     },
     "execution_count": 198,
     "metadata": {},
     "output_type": "execute_result"
    },
    {
     "data": {
      "image/png": "[encoded data removed]",
      "text/plain": [
       "<Figure size 432x288 with 1 Axes>"
      ]
     },
     "metadata": {
      "needs_background": "light"
     },
     "output_type": "display_data"
    }
   ],
   "source": [
    "sns.regplot(x='Total Vehicles Crashed', y='Claim Amounts', data=df3)\n",
    "plt.ylim(0,)"
   ]
  },
  {
   "cell_type": "markdown",
   "id": "37019ddc",
   "metadata": {},
   "source": [
    "Correlation"
   ]
  },
  {
   "cell_type": "code",
   "execution_count": 202,
   "id": "87affce1",
   "metadata": {},
   "outputs": [],
   "source": [
    "from scipy import stats\n"
   ]
  },
  {
   "cell_type": "code",
   "execution_count": 208,
   "id": "9e3da39d",
   "metadata": {
    "scrolled": true
   },
   "outputs": [
    {
     "data": {
      "text/plain": [
       "(0.018945690082545645, 0.09052411784587897)"
      ]
     },
     "execution_count": 208,
     "metadata": {},
     "output_type": "execute_result"
    }
   ],
   "source": [
    "\n",
    "pearson_coef, p_value = stats.pearsonr(df3['Total Vehicles Crashed'],df3['Policy Holders'])\n",
    "pearson_coef, p_value\n"
   ]
  },
  {
   "cell_type": "markdown",
   "id": "243c6a4b",
   "metadata": {},
   "source": [
    "Correlation Causality: Correlation does not imply causation. Even if a strong correlation is observed between two variables, it does not necessarily mean that one variable causes the other. Establishing causality requires further investigation and experimental design."
   ]
  },
  {
   "cell_type": "markdown",
   "id": "222e384a",
   "metadata": {},
   "source": [
    "The calculated Pearson correlation coefficient (pearson_coef) between the 'Insurance' column and the 'Policy Holders' column is approximately 0.019. The corresponding p-value (p_value) is approximately 0.091.\n",
    "\n",
    "The Pearson correlation coefficient measures the linear relationship between two variables. In this case, the coefficient of 0.019 suggests a very weak positive correlation between 'Insurance' and 'Policy Holders'. The p-value of 0.091 indicates that there is no strong evidence to reject the null hypothesis of no correlation."
   ]
  },
  {
   "cell_type": "code",
   "execution_count": null,
   "id": "d601a826",
   "metadata": {},
   "outputs": [],
   "source": []
  },
  {
   "cell_type": "markdown",
   "id": "00c192a5",
   "metadata": {},
   "source": [
    "## Talking about this dataset."
   ]
  },
  {
   "cell_type": "raw",
   "id": "8a7f0a37",
   "metadata": {},
   "source": [
    "Generalizability: Dummy datasets are typically created for illustrative purposes and may not represent the diversity and variability present in real-world data. The findings and conclusions drawn from the dummy dataset may not be directly applicable to real-world situations.\n",
    "\n",
    "Assumptions and limitations: The dummy dataset may be based on certain assumptions or simplifications, which may introduce biases or limitations. It is important to be aware of these assumptions and consider their impact on the analysis and interpretation of the results.\n",
    "\n",
    "Data reliability: As the dataset is dummy, the accuracy and reliability of the data may be questionable. The values and relationships between variables may not accurately represent real-world scenarios.\n",
    "\n",
    "Lack of causality: The dataset may show correlations between variables, but it does not establish causality. The relationships observed in the data may be coincidental or influenced by unmeasured factors. Further research and analysis would be needed to establish causal relationships."
   ]
  },
  {
   "cell_type": "raw",
   "id": "461212c2",
   "metadata": {},
   "source": [
    "Thankyou,\n",
    "Parikshit Carpenter"
   ]
  }
 ],
 "metadata": {
  "kernelspec": {
   "display_name": "Python 3 (ipykernel)",
   "language": "python",
   "name": "python3"
  },
  "language_info": {
   "codemirror_mode": {
    "name": "ipython",
    "version": 3
   },
   "file_extension": ".py",
   "mimetype": "text/x-python",
   "name": "python",
   "nbconvert_exporter": "python",
   "pygments_lexer": "ipython3",
   "version": "3.10.5"
  }
 },
 "nbformat": 4,
 "nbformat_minor": 5
}
